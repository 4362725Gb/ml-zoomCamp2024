{
  "cells": [
    {
      "cell_type": "code",
      "execution_count": 1,
      "id": "cb33efe7",
      "metadata": {
        "id": "cb33efe7",
        "outputId": "754a9f6a-b70f-4fb2-b053-db32ce0025ba",
        "colab": {
          "base_uri": "https://localhost:8080/",
          "height": 36
        }
      },
      "outputs": [
        {
          "output_type": "execute_result",
          "data": {
            "text/plain": [
              "'/content'"
            ],
            "application/vnd.google.colaboratory.intrinsic+json": {
              "type": "string"
            }
          },
          "metadata": {},
          "execution_count": 1
        }
      ],
      "source": [
        "pwd"
      ]
    },
    {
      "cell_type": "code",
      "source": [
        "import numpy as np\n",
        "import pandas as pd\n",
        "import tensorflow as tf\n",
        "from tensorflow.keras.preprocessing.image import load_img\n"
      ],
      "metadata": {
        "id": "3LCtgFpcpcAx"
      },
      "id": "3LCtgFpcpcAx",
      "execution_count": 37,
      "outputs": []
    },
    {
      "cell_type": "code",
      "source": [
        "from google.colab import drive\n",
        "drive.mount('/content/drive')"
      ],
      "metadata": {
        "colab": {
          "base_uri": "https://localhost:8080/"
        },
        "id": "jcVx_VQpN4o5",
        "outputId": "a1e3ccd4-83d1-48a2-ff8d-cbf3eb2c17ed"
      },
      "id": "jcVx_VQpN4o5",
      "execution_count": 4,
      "outputs": [
        {
          "output_type": "stream",
          "name": "stdout",
          "text": [
            "Mounted at /content/drive\n"
          ]
        }
      ]
    },
    {
      "cell_type": "code",
      "source": [
        "pwd"
      ],
      "metadata": {
        "colab": {
          "base_uri": "https://localhost:8080/",
          "height": 36
        },
        "id": "k2uhXgXNO1ta",
        "outputId": "78c0de0c-eb33-4968-8886-68ba9ce739da"
      },
      "id": "k2uhXgXNO1ta",
      "execution_count": 17,
      "outputs": [
        {
          "output_type": "execute_result",
          "data": {
            "text/plain": [
              "'/content/drive/MyDrive/zoomcamp2024'"
            ],
            "application/vnd.google.colaboratory.intrinsic+json": {
              "type": "string"
            }
          },
          "metadata": {},
          "execution_count": 17
        }
      ]
    },
    {
      "cell_type": "code",
      "source": [
        "!git clone https://github.com/alexeygrigorev/clothing-dataset-small.git"
      ],
      "metadata": {
        "id": "W92StH6RpqBQ",
        "outputId": "eb0628cf-ea74-49cb-8cb1-1cda63d0bacc",
        "colab": {
          "base_uri": "https://localhost:8080/"
        }
      },
      "id": "W92StH6RpqBQ",
      "execution_count": 18,
      "outputs": [
        {
          "output_type": "stream",
          "name": "stdout",
          "text": [
            "Cloning into 'clothing-dataset-small'...\n",
            "remote: Enumerating objects: 3839, done.\u001b[K\n",
            "remote: Counting objects: 100% (400/400), done.\u001b[K\n",
            "remote: Compressing objects: 100% (400/400), done.\u001b[K\n",
            "remote: Total 3839 (delta 9), reused 385 (delta 0), pack-reused 3439 (from 1)\u001b[K\n",
            "Receiving objects: 100% (3839/3839), 100.58 MiB | 14.90 MiB/s, done.\n",
            "Resolving deltas: 100% (10/10), done.\n",
            "Updating files: 100% (3783/3783), done.\n"
          ]
        }
      ]
    },
    {
      "cell_type": "code",
      "source": [
        "ls"
      ],
      "metadata": {
        "id": "KKyCVMZWrZf1",
        "outputId": "3f085698-d774-4971-96bc-bffe3a85fdd8",
        "colab": {
          "base_uri": "https://localhost:8080/"
        }
      },
      "id": "KKyCVMZWrZf1",
      "execution_count": 19,
      "outputs": [
        {
          "output_type": "stream",
          "name": "stdout",
          "text": [
            "\u001b[0m\u001b[01;34mclothing-dataset-small\u001b[0m/\n"
          ]
        }
      ]
    },
    {
      "cell_type": "code",
      "source": [
        "path = '/content/drive/MyDrive/zoomcamp2024/clothing-dataset-small/train/t-shirt'\n",
        "name = '00003aeb-ace5-43bf-9a0c-dc31a03e9cd2.jpg'\n",
        "fullname = f'{path}/{name}'\n",
        "img = load_img(fullname , target_size=(95, 95))"
      ],
      "metadata": {
        "id": "wOj6yHUqQwX4"
      },
      "id": "wOj6yHUqQwX4",
      "execution_count": 33,
      "outputs": []
    },
    {
      "cell_type": "code",
      "source": [
        "img"
      ],
      "metadata": {
        "id": "BFM3zJZERt20",
        "outputId": "1989f9a2-0168-4a1e-b502-1ecc9a1275d0",
        "colab": {
          "base_uri": "https://localhost:8080/",
          "height": 112
        }
      },
      "id": "BFM3zJZERt20",
      "execution_count": 34,
      "outputs": [
        {
          "output_type": "execute_result",
          "data": {
            "text/plain": [
              "<PIL.Image.Image image mode=RGB size=95x95>"
            ],
            "image/png": "[encoded data removed]",
            "image/jpeg": "[encoded data removed]"
          },
          "metadata": {},
          "execution_count": 34
        }
      ]
    },
    {
      "cell_type": "code",
      "source": [
        "np.array(img).shape"
      ],
      "metadata": {
        "id": "b_J_m01rSKJ6",
        "outputId": "a92110ae-f5bb-48f2-9b2a-64201c06e5d8",
        "colab": {
          "base_uri": "https://localhost:8080/"
        }
      },
      "id": "b_J_m01rSKJ6",
      "execution_count": 43,
      "outputs": [
        {
          "output_type": "execute_result",
          "data": {
            "text/plain": [
              "(95, 95, 3)"
            ]
          },
          "metadata": {},
          "execution_count": 43
        }
      ]
    },
    {
      "cell_type": "code",
      "source": [
        "np.array(img)[0][0]"
      ],
      "metadata": {
        "id": "3Mi9j2GiTQLD",
        "outputId": "12fb88ac-7b33-4af3-9ea9-a7e07d60f87e",
        "colab": {
          "base_uri": "https://localhost:8080/"
        }
      },
      "id": "3Mi9j2GiTQLD",
      "execution_count": 48,
      "outputs": [
        {
          "output_type": "execute_result",
          "data": {
            "text/plain": [
              "array([105,  21,  11], dtype=uint8)"
            ]
          },
          "metadata": {},
          "execution_count": 48
        }
      ]
    },
    {
      "cell_type": "code",
      "source": [],
      "metadata": {
        "id": "WWKc4AGYUnis"
      },
      "id": "WWKc4AGYUnis",
      "execution_count": null,
      "outputs": []
    },
    {
      "source": [
        "from PIL import Image"
      ],
      "cell_type": "code",
      "metadata": {
        "id": "2syMzxuuUu_Y"
      },
      "id": "2syMzxuuUu_Y",
      "execution_count": 51,
      "outputs": []
    },
    {
      "cell_type": "markdown",
      "source": [
        "showing a strip of picture"
      ],
      "metadata": {
        "id": "XefY27IKV26B"
      },
      "id": "XefY27IKV26B"
    },
    {
      "cell_type": "code",
      "source": [
        "display(Image.fromarray (np.array(img)[50:60].reshape(10,95,3),'RGB'))"
      ],
      "metadata": {
        "id": "PZPE4Ca2VH0P",
        "outputId": "d3b7782c-fd4f-4013-9d09-af0f23cc9c49",
        "colab": {
          "base_uri": "https://localhost:8080/",
          "height": 34
        }
      },
      "id": "PZPE4Ca2VH0P",
      "execution_count": 62,
      "outputs": [
        {
          "output_type": "display_data",
          "data": {
            "text/plain": [
              "<PIL.Image.Image image mode=RGB size=95x10>"
            ],
            "image/png": "[encoded data removed]",
            "image/jpeg": "[encoded data removed]"
          },
          "metadata": {}
        }
      ]
    }
  ],
  "metadata": {
    "kernelspec": {
      "display_name": "Python 3 (ipykernel)",
      "language": "python",
      "name": "python3"
    },
    "language_info": {
      "codemirror_mode": {
        "name": "ipython",
        "version": 3
      },
      "file_extension": ".py",
      "mimetype": "text/x-python",
      "name": "python",
      "nbconvert_exporter": "python",
      "pygments_lexer": "ipython3",
      "version": "3.9.7"
    },
    "colab": {
      "provenance": []
    }
  },
  "nbformat": 4,
  "nbformat_minor": 5
}