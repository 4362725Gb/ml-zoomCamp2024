{
 "cells": [
  {
   "cell_type": "markdown",
   "id": "0f8e0cae-e8a3-4efc-980d-1abd32d6b428",
   "metadata": {
    "scrolled": true
   },
   "source": [
    "# Sketch code to understand Flask library for making a web server"
   ]
  },
  {
   "cell_type": "code",
   "execution_count": 11,
   "id": "71958478-7c7a-4e6d-9113-9b671acd7207",
   "metadata": {},
   "outputs": [],
   "source": [
    "def salam():\n",
    "    return 'درود'"
   ]
  },
  {
   "cell_type": "code",
   "execution_count": 13,
   "id": "43797026-9d30-47b4-ade0-e5e94ac0613a",
   "metadata": {},
   "outputs": [
    {
     "data": {
      "text/plain": [
       "'درود'"
      ]
     },
     "execution_count": 13,
     "metadata": {},
     "output_type": "execute_result"
    }
   ],
   "source": [
    "salam()"
   ]
  },
  {
   "cell_type": "code",
   "execution_count": null,
   "id": "ca0a8141-d20c-4e91-829f-a2b48380dd0e",
   "metadata": {},
   "outputs": [],
   "source": []
  }
 ],
 "metadata": {
  "kernelspec": {
   "display_name": "Python 3 (ipykernel)",
   "language": "python",
   "name": "python3"
  },
  "language_info": {
   "codemirror_mode": {
    "name": "ipython",
    "version": 3
   },
   "file_extension": ".py",
   "mimetype": "text/x-python",
   "name": "python",
   "nbconvert_exporter": "python",
   "pygments_lexer": "ipython3",
   "version": "3.11.10"
  }
 },
 "nbformat": 4,
 "nbformat_minor": 5
}
