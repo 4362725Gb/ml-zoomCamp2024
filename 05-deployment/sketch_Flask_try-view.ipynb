{
 "cells": [
  {
   "cell_type": "markdown",
   "id": "0f8e0cae-e8a3-4efc-980d-1abd32d6b428",
   "metadata": {
    "scrolled": true
   },
   "source": [
    "# Sketch code to understand Flask library for making a web server"
   ]
  },
  {
   "cell_type": "code",
   "execution_count": 1,
   "id": "74576167-e723-4655-94da-8d0c921ee855",
   "metadata": {},
   "outputs": [],
   "source": [
    "# ping pong test\n",
    "\n",
    "from flask import Flask\n",
    " \n",
    "app = Flask('ping')\n",
    " \n",
    "@app.route('/ping', methods=['GET'])\n",
    "def ping():\n",
    "    return \"PONG\"\n",
    " \n",
    "if __name__ == \"__main__\":\n",
    "    app.run(debug=True, host='0.0.0.0', port=9696)"
   ]
  }
 ],
 "metadata": {
  "kernelspec": {
   "display_name": "Python 3 (ipykernel)",
   "language": "python",
   "name": "python3"
  },
  "language_info": {
   "codemirror_mode": {
    "name": "ipython",
    "version": 3
   },
   "file_extension": ".py",
   "mimetype": "text/x-python",
   "name": "python",
   "nbconvert_exporter": "python",
   "pygments_lexer": "ipython3",
   "version": "3.11.10"
  }
 },
 "nbformat": 4,
 "nbformat_minor": 5
}
