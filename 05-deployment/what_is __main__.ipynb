{
 "cells": [
  {
   "cell_type": "markdown",
   "id": "8d43812c-9a65-4e79-a75f-b1174e25316f",
   "metadata": {},
   "source": [
    "# In this note book i search and try to understand what is __name__ in python "
   ]
  },
  {
   "cell_type": "code",
   "execution_count": 5,
   "id": "01021f59-7141-4a64-890e-89c5e776fbe5",
   "metadata": {},
   "outputs": [
    {
     "data": {
      "text/plain": [
       "'__main__'"
      ]
     },
     "execution_count": 5,
     "metadata": {},
     "output_type": "execute_result"
    }
   ],
   "source": [
    "__name__"
   ]
  },
  {
   "cell_type": "code",
   "execution_count": 6,
   "id": "2cdde022-78eb-499a-9347-5fe57ce1f3b2",
   "metadata": {},
   "outputs": [],
   "source": [
    "import ping"
   ]
  },
  {
   "cell_type": "code",
   "execution_count": 8,
   "id": "fcccbc85-e2a8-4837-a72b-2d34e8ddeba9",
   "metadata": {},
   "outputs": [
    {
     "data": {
      "text/plain": [
       "'ping'"
      ]
     },
     "execution_count": 8,
     "metadata": {},
     "output_type": "execute_result"
    }
   ],
   "source": [
    "ping.__name__"
   ]
  },
  {
   "cell_type": "code",
   "execution_count": 10,
   "id": "0db51a99-a059-4e9d-871c-6feafa630a1a",
   "metadata": {},
   "outputs": [],
   "source": [
    "import script2"
   ]
  },
  {
   "cell_type": "code",
   "execution_count": 15,
   "id": "806e41ff-546d-4c8a-8504-a324533cfc7e",
   "metadata": {},
   "outputs": [
    {
     "ename": "TypeError",
     "evalue": "'module' object is not callable",
     "output_type": "error",
     "traceback": [
      "\u001b[0;31m---------------------------------------------------------------------------\u001b[0m",
      "\u001b[0;31mTypeError\u001b[0m                                 Traceback (most recent call last)",
      "Cell \u001b[0;32mIn[15], line 1\u001b[0m\n\u001b[0;32m----> 1\u001b[0m \u001b[43mscript2\u001b[49m\u001b[38;5;241;43m.\u001b[39;49m\u001b[43mscript1\u001b[49m\u001b[43m(\u001b[49m\u001b[43m)\u001b[49m\n",
      "\u001b[0;31mTypeError\u001b[0m: 'module' object is not callable"
     ]
    }
   ],
   "source": [
    "script2.script1()"
   ]
  },
  {
   "cell_type": "code",
   "execution_count": 12,
   "id": "b18d0f44-f184-4103-9688-b472cc6d9ac4",
   "metadata": {},
   "outputs": [],
   "source": [
    "import script1"
   ]
  },
  {
   "cell_type": "code",
   "execution_count": 19,
   "id": "85d27875-c249-4390-8867-ff0e4df70cc0",
   "metadata": {},
   "outputs": [
    {
     "name": "stdout",
     "output_type": "stream",
     "text": [
      "Hello from greet() function!\n"
     ]
    }
   ],
   "source": [
    "script1.greet()"
   ]
  },
  {
   "cell_type": "code",
   "execution_count": 22,
   "id": "e8b9f9e1-bd3b-4e44-b9d8-21ed30d3a66e",
   "metadata": {},
   "outputs": [
    {
     "data": {
      "text/plain": [
       "'script2'"
      ]
     },
     "execution_count": 22,
     "metadata": {},
     "output_type": "execute_result"
    }
   ],
   "source": [
    "script2.__name__"
   ]
  },
  {
   "cell_type": "code",
   "execution_count": null,
   "id": "7490d987-12d6-4eb9-8f8d-4a88319dd628",
   "metadata": {},
   "outputs": [],
   "source": []
  }
 ],
 "metadata": {
  "kernelspec": {
   "display_name": "Python 3 (ipykernel)",
   "language": "python",
   "name": "python3"
  },
  "language_info": {
   "codemirror_mode": {
    "name": "ipython",
    "version": 3
   },
   "file_extension": ".py",
   "mimetype": "text/x-python",
   "name": "python",
   "nbconvert_exporter": "python",
   "pygments_lexer": "ipython3",
   "version": "3.11.10"
  }
 },
 "nbformat": 4,
 "nbformat_minor": 5
}
